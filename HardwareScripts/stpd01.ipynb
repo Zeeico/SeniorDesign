{
 "cells": [
  {
   "cell_type": "code",
   "execution_count": 8,
   "metadata": {},
   "outputs": [],
   "source": [
    "Fsw = 10e3 # kHz\n",
    "Vin = [11, 15] # Min and max inputs V\n",
    "Vout = [3.3, 5] # Min and max outputs V\n",
    "rippleI = 0.05 # percent \n",
    "rippleV = 0.05 # percent\n",
    "Iout = [5e-3, 2] # Min and max current output A"
   ]
  },
  {
   "cell_type": "code",
   "execution_count": 9,
   "metadata": {},
   "outputs": [],
   "source": [
    "def Vout_ripple(di, Cout_esr, Cout, Fsw):\n",
    "    a = 1/(8*Cout*Fsw)\n",
    "    b = a + Cout_esr\n",
    "    return di*b\n",
    "\n",
    "def inductorSizeEqn(Vin, Vout, di, Duty, Fsw):\n",
    "    T = 1/Fsw\n",
    "    Ton = Duty*T\n",
    "    a = Ton * (Vin - Vout)\n",
    "    return a/di\n",
    "\n",
    "def Ipk(Iout, di):\n",
    "    return Iout + (.5*di)\n",
    "\n",
    "def dutyFxn(Vin, Vout):\n",
    "    return Vout/Vin    "
   ]
  },
  {
   "cell_type": "code",
   "execution_count": 16,
   "metadata": {},
   "outputs": [
    {
     "name": "stdout",
     "output_type": "stream",
     "text": [
      "2A output at 5% ripple\n",
      "Vin, Vout, inductor (uH): 11 3.3 46.199999999999996\n",
      "Vin, Vout, inductor (uH): 15 3.3 51.48\n",
      "Vin, Vout, inductor (uH): 11 5 54.54545454545454\n",
      "Vin, Vout, inductor (uH): 15 5 66.66666666666666\n"
     ]
    }
   ],
   "source": [
    "print(\"2A output at 5% ripple\")\n",
    "for Vout_val in Vout:\n",
    "    for Vin_val in Vin:\n",
    "        deltaI = 2*rippleI\n",
    "        duty = dutyFxn(Vin_val, Vout_val)\n",
    "        inductorSize = inductorSizeEqn(Vin_val, Vout_val, deltaI, duty, 500e3)\n",
    "        inductorSize = inductorSize * 1e6\n",
    "        print(\"Vin, Vout, inductor (uH):\", Vin_val, Vout_val, inductorSize)"
   ]
  },
  {
   "cell_type": "markdown",
   "metadata": {},
   "source": [
    "10μH is on all design docs"
   ]
  },
  {
   "cell_type": "markdown",
   "metadata": {},
   "source": []
  }
 ],
 "metadata": {
  "kernelspec": {
   "display_name": "Python 3",
   "language": "python",
   "name": "python3"
  },
  "language_info": {
   "codemirror_mode": {
    "name": "ipython",
    "version": 3
   },
   "file_extension": ".py",
   "mimetype": "text/x-python",
   "name": "python",
   "nbconvert_exporter": "python",
   "pygments_lexer": "ipython3",
   "version": "3.11.8"
  }
 },
 "nbformat": 4,
 "nbformat_minor": 2
}
