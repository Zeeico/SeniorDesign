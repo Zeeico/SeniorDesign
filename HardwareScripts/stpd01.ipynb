{
 "cells": [
  {
   "cell_type": "code",
   "execution_count": 4,
   "metadata": {},
   "outputs": [],
   "source": [
    "Fsw = 10e3 # kHz"
   ]
  },
  {
   "cell_type": "code",
   "execution_count": 5,
   "metadata": {},
   "outputs": [],
   "source": [
    "def Vout_ripple(di, Cout_esr, Cout, Fsw):\n",
    "    a = 1/(8*Cout*Fsw)\n",
    "    b = a + Cout_esr\n",
    "    return di*b\n",
    "\n",
    "def inductorSize(Vin, Vout, di, Duty, Fsw):\n",
    "    T = 1/Fsw\n",
    "    Ton = duty*T\n",
    "    a = Ton * (Vin - Vout)\n",
    "    return a/di\n",
    "\n",
    "def Ipk(Iout, di):\n",
    "    return Iout + (.5*di)\n",
    "    "
   ]
  },
  {
   "cell_type": "code",
   "execution_count": null,
   "metadata": {},
   "outputs": [],
   "source": []
  }
 ],
 "metadata": {
  "kernelspec": {
   "display_name": "Python 3",
   "language": "python",
   "name": "python3"
  },
  "language_info": {
   "codemirror_mode": {
    "name": "ipython",
    "version": 3
   },
   "file_extension": ".py",
   "mimetype": "text/x-python",
   "name": "python",
   "nbconvert_exporter": "python",
   "pygments_lexer": "ipython3",
   "version": "3.10.2"
  }
 },
 "nbformat": 4,
 "nbformat_minor": 2
}
