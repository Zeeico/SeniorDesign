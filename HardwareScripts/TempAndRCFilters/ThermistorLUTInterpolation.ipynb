{
 "cells": [
  {
   "cell_type": "code",
   "execution_count": 1,
   "metadata": {},
   "outputs": [],
   "source": [
    "import pandas as pd\n",
    "import numpy as np"
   ]
  },
  {
   "cell_type": "code",
   "execution_count": 2,
   "metadata": {},
   "outputs": [],
   "source": [
    "data = pd.read_csv('../../docs/Thermistor_LUT.csv')"
   ]
  },
  {
   "cell_type": "code",
   "execution_count": 3,
   "metadata": {},
   "outputs": [],
   "source": [
    "data = data.drop(data.index[0])"
   ]
  },
  {
   "cell_type": "code",
   "execution_count": 4,
   "metadata": {},
   "outputs": [
    {
     "data": {
      "text/html": [
       "<div>\n",
       "<style scoped>\n",
       "    .dataframe tbody tr th:only-of-type {\n",
       "        vertical-align: middle;\n",
       "    }\n",
       "\n",
       "    .dataframe tbody tr th {\n",
       "        vertical-align: top;\n",
       "    }\n",
       "\n",
       "    .dataframe thead th {\n",
       "        text-align: right;\n",
       "    }\n",
       "</style>\n",
       "<table border=\"1\" class=\"dataframe\">\n",
       "  <thead>\n",
       "    <tr style=\"text-align: right;\">\n",
       "      <th></th>\n",
       "      <th>Temp</th>\n",
       "      <th>Nom</th>\n",
       "      <th>Voltage</th>\n",
       "      <th>STM_ADC</th>\n",
       "    </tr>\n",
       "  </thead>\n",
       "  <tbody>\n",
       "    <tr>\n",
       "      <th>41</th>\n",
       "      <td>0</td>\n",
       "      <td>27.28</td>\n",
       "      <td>804.72103</td>\n",
       "      <td>998</td>\n",
       "    </tr>\n",
       "    <tr>\n",
       "      <th>42</th>\n",
       "      <td>1</td>\n",
       "      <td>26.14</td>\n",
       "      <td>830.1051467</td>\n",
       "      <td>1030</td>\n",
       "    </tr>\n",
       "    <tr>\n",
       "      <th>43</th>\n",
       "      <td>2</td>\n",
       "      <td>25.05</td>\n",
       "      <td>855.9201141</td>\n",
       "      <td>1062</td>\n",
       "    </tr>\n",
       "    <tr>\n",
       "      <th>44</th>\n",
       "      <td>3</td>\n",
       "      <td>24.01</td>\n",
       "      <td>882.0935019</td>\n",
       "      <td>1094</td>\n",
       "    </tr>\n",
       "    <tr>\n",
       "      <th>45</th>\n",
       "      <td>4</td>\n",
       "      <td>23.02</td>\n",
       "      <td>908.5402786</td>\n",
       "      <td>1127</td>\n",
       "    </tr>\n",
       "    <tr>\n",
       "      <th>...</th>\n",
       "      <td>...</td>\n",
       "      <td>...</td>\n",
       "      <td>...</td>\n",
       "      <td>...</td>\n",
       "    </tr>\n",
       "    <tr>\n",
       "      <th>187</th>\n",
       "      <td>146</td>\n",
       "      <td>0.339</td>\n",
       "      <td>2901.634587</td>\n",
       "      <td>3601</td>\n",
       "    </tr>\n",
       "    <tr>\n",
       "      <th>188</th>\n",
       "      <td>147</td>\n",
       "      <td>0.332</td>\n",
       "      <td>2903.600465</td>\n",
       "      <td>3603</td>\n",
       "    </tr>\n",
       "    <tr>\n",
       "      <th>189</th>\n",
       "      <td>148</td>\n",
       "      <td>0.326</td>\n",
       "      <td>2905.287623</td>\n",
       "      <td>3606</td>\n",
       "    </tr>\n",
       "    <tr>\n",
       "      <th>190</th>\n",
       "      <td>149</td>\n",
       "      <td>0.319</td>\n",
       "      <td>2907.258455</td>\n",
       "      <td>3608</td>\n",
       "    </tr>\n",
       "    <tr>\n",
       "      <th>191</th>\n",
       "      <td>150</td>\n",
       "      <td>0.313</td>\n",
       "      <td>2908.949869</td>\n",
       "      <td>3610</td>\n",
       "    </tr>\n",
       "  </tbody>\n",
       "</table>\n",
       "<p>151 rows × 4 columns</p>\n",
       "</div>"
      ],
      "text/plain": [
       "     Temp    Nom      Voltage  STM_ADC\n",
       "41      0  27.28    804.72103      998\n",
       "42      1  26.14  830.1051467     1030\n",
       "43      2  25.05  855.9201141     1062\n",
       "44      3  24.01  882.0935019     1094\n",
       "45      4  23.02  908.5402786     1127\n",
       "..    ...    ...          ...      ...\n",
       "187   146  0.339  2901.634587     3601\n",
       "188   147  0.332  2903.600465     3603\n",
       "189   148  0.326  2905.287623     3606\n",
       "190   149  0.319  2907.258455     3608\n",
       "191   150  0.313  2908.949869     3610\n",
       "\n",
       "[151 rows x 4 columns]"
      ]
     },
     "execution_count": 4,
     "metadata": {},
     "output_type": "execute_result"
    }
   ],
   "source": [
    "# Convert data to ints for ease and shorten temp range to remove negative values\n",
    "data['STM_ADC'] = np.floor(data['STM_ADC'].astype(float)).astype(int)\n",
    "data['Temp'] = data['Temp'].astype(int)\n",
    "data = data[data['Temp'] > -1]\n",
    "data"
   ]
  },
  {
   "cell_type": "code",
   "execution_count": 5,
   "metadata": {},
   "outputs": [],
   "source": [
    "temps = []\n",
    "ADCs = []\n",
    "\n",
    "prev_adc = 998\n",
    "prev_temp = 998\n",
    "adc = 0\n",
    "temp = 0\n",
    "for i in range(len(data)):\n",
    "    adc = data.iloc[i]['STM_ADC']\n",
    "    temp = data.iloc[i]['Temp']\n",
    "    \n",
    "    # Interpolate\n",
    "    if(len(temps) > 0):\n",
    "        j = prev_adc\n",
    "        while(j<adc-1):\n",
    "            j+=1\n",
    "            temps.append( int(((j - prev_adc)/(adc-prev_adc) + prev_temp)*100) )\n",
    "            ADCs.append(j)\n",
    "\n",
    "    temps.append( int(temp*100) )\n",
    "    prev_temp = temp\n",
    "    ADCs.append(adc)\n",
    "    prev_adc = adc\n"
   ]
  },
  {
   "cell_type": "code",
   "execution_count": 6,
   "metadata": {},
   "outputs": [],
   "source": [
    "d = {'STM_ADC':ADCs, 'Temp':temps}\n",
    "out = pd.DataFrame(data=d)\n",
    "out.to_csv('LUT.csv', index=False) "
   ]
  },
  {
   "cell_type": "code",
   "execution_count": null,
   "metadata": {},
   "outputs": [],
   "source": []
  }
 ],
 "metadata": {
  "kernelspec": {
   "display_name": "base",
   "language": "python",
   "name": "python3"
  },
  "language_info": {
   "codemirror_mode": {
    "name": "ipython",
    "version": 3
   },
   "file_extension": ".py",
   "mimetype": "text/x-python",
   "name": "python",
   "nbconvert_exporter": "python",
   "pygments_lexer": "ipython3",
   "version": "3.9.13"
  }
 },
 "nbformat": 4,
 "nbformat_minor": 2
}
