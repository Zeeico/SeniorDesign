{
 "cells": [
  {
   "cell_type": "code",
   "execution_count": 20,
   "metadata": {},
   "outputs": [],
   "source": [
    "Fsw = 500e3 # kHz\n",
    "Vin = [11, 15] # Min and max inputs V\n",
    "Vout = [3.3, 5] # Min and max outputs V\n",
    "rippleI = 0.15 # percent \n",
    "rippleV = 0.05 # percent\n",
    "Iout = [5e-3, 2] # Min and max current output A"
   ]
  },
  {
   "cell_type": "code",
   "execution_count": 21,
   "metadata": {},
   "outputs": [],
   "source": [
    "def Vout_ripple(di, Cout_esr, Cout, Fsw):\n",
    "    a = 1/(8*Cout*Fsw)\n",
    "    b = a + Cout_esr\n",
    "    return di*b\n",
    "\n",
    "def inductorSizeEqn(Vin, Vout, di, Duty, Fsw):\n",
    "    T = 1/Fsw\n",
    "    Ton = Duty*T\n",
    "    a = Ton * (Vin - Vout)\n",
    "    return a/di\n",
    "\n",
    "def Ipk(Iout, di):\n",
    "    return Iout + (.5*di)\n",
    "\n",
    "def dutyFxn(Vin, Vout):\n",
    "    return Vout/Vin    "
   ]
  },
  {
   "cell_type": "code",
   "execution_count": 22,
   "metadata": {},
   "outputs": [
    {
     "name": "stdout",
     "output_type": "stream",
     "text": [
      "2A output at 15% ripple\n",
      "Vin (V), Vout (V), inductor (uH), peak inductor current (A): 11 3.3 15.400000000000002 2.15\n",
      "Vin (V), Vout (V), inductor (uH), peak inductor current (A): 15 3.3 17.159999999999997 2.15\n",
      "Vin (V), Vout (V), inductor (uH), peak inductor current (A): 11 5 18.181818181818183 2.15\n",
      "Vin (V), Vout (V), inductor (uH), peak inductor current (A): 15 5 22.22222222222222 2.15\n"
     ]
    }
   ],
   "source": [
    "print(\"2A output at 15% ripple\")\n",
    "for Vout_val in Vout:\n",
    "    for Vin_val in Vin:\n",
    "        deltaI = 2*rippleI\n",
    "        duty = dutyFxn(Vin_val, Vout_val)\n",
    "        inductorSize = inductorSizeEqn(Vin_val, Vout_val, deltaI, duty, Fsw)\n",
    "        inductorSize = inductorSize * 1e6\n",
    "        Ipeak = Ipk(2, deltaI)\n",
    "        print(\"Vin (V), Vout (V), inductor (uH), peak inductor current (A):\", Vin_val, Vout_val, inductorSize, Ipeak)"
   ]
  },
  {
   "cell_type": "markdown",
   "metadata": {},
   "source": [
    "10 uH is on all design docs, at 500kHz we need about 20 uH"
   ]
  },
  {
   "cell_type": "code",
   "execution_count": 28,
   "metadata": {},
   "outputs": [
    {
     "name": "stdout",
     "output_type": "stream",
     "text": [
      "Voltage output at 5% ripple\n",
      "Ripple Voltage (V), Cout (uF): 0.075 1\n",
      "Ripple Voltage (V), Cout (uF): 0.0375 2\n",
      "Ripple Voltage (V), Cout (uF): 0.024999999999999998 3\n",
      "Ripple Voltage (V), Cout (uF): 0.01875 4\n",
      "Ripple Voltage (V), Cout (uF): 0.015 5\n",
      "Ripple Voltage (V), Cout (uF): 0.012499999999999999 6\n",
      "Ripple Voltage (V), Cout (uF): 0.010714285714285713 7\n",
      "Ripple Voltage (V), Cout (uF): 0.009375 8\n",
      "Ripple Voltage (V), Cout (uF): 0.008333333333333333 9\n",
      "Ripple Voltage (V), Cout (uF): 0.0075 10\n",
      "Ripple Voltage (V), Cout (uF): 0.006818181818181818 11\n",
      "Ripple Voltage (V), Cout (uF): 0.0062499999999999995 12\n",
      "Ripple Voltage (V), Cout (uF): 0.0057692307692307696 13\n",
      "Ripple Voltage (V), Cout (uF): 0.005357142857142856 14\n"
     ]
    }
   ],
   "source": [
    "print(\"Voltage output at 5% ripple\")\n",
    "for i in range(1, 15, 1):\n",
    "    deltaI = 2*rippleI\n",
    "    cOut = i*1e-6\n",
    "    Vripple = Vout_ripple(deltaI, 0, cOut, Fsw)\n",
    "    print(\"Ripple Voltage (V), Cout (uF):\", Vripple, i)"
   ]
  },
  {
   "cell_type": "markdown",
   "metadata": {},
   "source": [
    "Based on the basic Calcs above, we should have 20 uH and around 5 uF of cOut\n",
    "\n",
    "https://www.coilcraft.com/en-us/products/power/shielded-inductors/molded-inductor/xgl/xgl6060/?skuId=30999"
   ]
  },
  {
   "cell_type": "markdown",
   "metadata": {},
   "source": []
  }
 ],
 "metadata": {
  "kernelspec": {
   "display_name": "Python 3",
   "language": "python",
   "name": "python3"
  },
  "language_info": {
   "codemirror_mode": {
    "name": "ipython",
    "version": 3
   },
   "file_extension": ".py",
   "mimetype": "text/x-python",
   "name": "python",
   "nbconvert_exporter": "python",
   "pygments_lexer": "ipython3",
   "version": "3.11.0"
  }
 },
 "nbformat": 4,
 "nbformat_minor": 2
}
